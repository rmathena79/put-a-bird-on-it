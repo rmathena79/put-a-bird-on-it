{
 "cells": [
  {
   "cell_type": "code",
   "execution_count": 71,
   "id": "e852b022-7e0f-478f-a941-11d983f43c9b",
   "metadata": {},
   "outputs": [
    {
     "data": {
      "text/plain": [
       "(      COMMON NAME        SCIENTIFIC NAME   LATITUDE  LONGITUDE  \\\n",
       " 0               1  Corvus brachyrhynchos  32.176196 -86.352121   \n",
       " 1               1  Corvus brachyrhynchos  32.358285 -86.454432   \n",
       " 2               1  Corvus brachyrhynchos  32.310409 -86.101011   \n",
       " 3               1  Corvus brachyrhynchos  32.105727 -86.024669   \n",
       " 4               1  Corvus brachyrhynchos  32.345618 -86.032910   \n",
       " ...           ...                    ...        ...        ...   \n",
       " 1394          106     Setophaga coronata  32.309383 -86.181432   \n",
       " 1395          106     Setophaga coronata  32.369819 -86.180017   \n",
       " 1396          107       Vireo flavifrons  32.335154 -86.037366   \n",
       " 1397          107       Vireo flavifrons  32.358285 -86.454432   \n",
       " 1398          108     Setophaga dominica  32.054564 -86.219386   \n",
       " \n",
       "      OBSERVATION DATE  \n",
       " 0          2022-04-29  \n",
       " 1          2022-04-26  \n",
       " 2          2022-04-23  \n",
       " 3          2022-04-28  \n",
       " 4          2022-04-17  \n",
       " ...               ...  \n",
       " 1394       2022-04-04  \n",
       " 1395       2022-04-03  \n",
       " 1396       2022-04-23  \n",
       " 1397       2022-04-27  \n",
       " 1398       2022-04-11  \n",
       " \n",
       " [1359 rows x 5 columns],\n",
       "       id              COMMON NAME\n",
       " 0      1            American Crow\n",
       " 1      2       American Goldfinch\n",
       " 2      3         American Kestrel\n",
       " 3      4           American Robin\n",
       " 4      5   American White Pelican\n",
       " ..   ...                      ...\n",
       " 103  104              Wood Thrush\n",
       " 104  105            American Coot\n",
       " 105  106    Yellow-rumped Warbler\n",
       " 106  107    Yellow-throated Vireo\n",
       " 107  108  Yellow-throated Warbler\n",
       " \n",
       " [108 rows x 2 columns])"
      ]
     },
     "execution_count": 71,
     "metadata": {},
     "output_type": "execute_result"
    }
   ],
   "source": [
    "import pandas as pd\n",
    "import numpy as np\n",
    "\n",
    "SOURCE = \"sampledata/ebd_US-AL-101_202204_202204_relApr-2022.txt\"\n",
    "\n",
    "# Important column names\n",
    "COL_TAX_CATEGORY = 'CATEGORY'\n",
    "COL_COMMON_NAME = 'COMMON NAME'\n",
    "COL_SCI_NAME = 'SCIENTIFIC NAME'\n",
    "COL_LAT = 'LATITUDE'\n",
    "COL_LONG = 'LONGITUDE'\n",
    "COL_DATE = 'OBSERVATION DATE'\n",
    "FINAL_CARE_COLUMNS = [COL_COMMON_NAME, COL_SCI_NAME, COL_LAT, COL_LONG, COL_DATE]\n",
    "\n",
    "def normalize_form(df, column_name):\n",
    "    # Build a table for the extracted values, giving each unique value an ID number\n",
    "    values = df[column_name].unique()\n",
    "    ids = np.arange(1, len(values)+1)\n",
    "    value_df = pd.DataFrame({'id': ids, column_name: values})\n",
    "\n",
    "    # Replace the literal values with their ID in the original dataframe\n",
    "    result = df.copy()\n",
    "    for i in range(0, len(values)):\n",
    "        value = values[i]\n",
    "        id = ids[i]\n",
    "        result[column_name] = result[column_name].replace({value: id})\n",
    "    return result, value_df\n",
    "\n",
    "# Read the data\n",
    "raw_df = pd.read_csv(SOURCE, sep='\\t')\n",
    "\n",
    "# Drop all sightings categories by anything other than species (just for simplification)\n",
    "df = raw_df.loc[raw_df[COL_TAX_CATEGORY] == 'species']\n",
    "\n",
    "# Remove extraneous columns\n",
    "df = df.loc[:, FINAL_CARE_COLUMNS ]\n",
    "\n",
    "(ndf, vdf) = normalize_form(df, COL_COMMON_NAME)\n",
    "ndf, vdf\n"
   ]
  }
 ],
 "metadata": {
  "kernelspec": {
   "display_name": "Python 3 (ipykernel)",
   "language": "python",
   "name": "python3"
  },
  "language_info": {
   "codemirror_mode": {
    "name": "ipython",
    "version": 3
   },
   "file_extension": ".py",
   "mimetype": "text/x-python",
   "name": "python",
   "nbconvert_exporter": "python",
   "pygments_lexer": "ipython3",
   "version": "3.10.14"
  }
 },
 "nbformat": 4,
 "nbformat_minor": 5
}
