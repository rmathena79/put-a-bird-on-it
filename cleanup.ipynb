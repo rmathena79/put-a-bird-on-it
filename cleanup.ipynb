{
 "cells": [
  {
   "cell_type": "code",
   "execution_count": 15,
   "id": "e852b022-7e0f-478f-a941-11d983f43c9b",
   "metadata": {},
   "outputs": [
    {
     "name": "stdout",
     "output_type": "stream",
     "text": [
      "Extracing values for column COMMON_NAME\n",
      "Extracing values for column SCIENTIFIC_NAME\n",
      "Saving main data: output\\normalized.csv\n",
      "Saving COMMON_NAME data: output\\COMMON_NAME.csv\n",
      "Saving SCIENTIFIC_NAME data: output\\SCIENTIFIC_NAME.csv\n"
     ]
    }
   ],
   "source": [
    "import pandas as pd\n",
    "import numpy as np\n",
    "import os\n",
    "\n",
    "SOURCE = \"sampledata/ebd_US-AL-101_202204_202204_relApr-2022.txt\"\n",
    "OUT_DIR = \"output\"\n",
    "\n",
    "# Important column names. Note these are the final forms, after renaming to remove spaces:\n",
    "COL_TAX_CATEGORY = 'CATEGORY'\n",
    "COL_COMMON_NAME = 'COMMON_NAME'\n",
    "COL_SCI_NAME = 'SCIENTIFIC_NAME'\n",
    "COL_LAT = 'LATITUDE'\n",
    "COL_LONG = 'LONGITUDE'\n",
    "COL_DATE = 'OBSERVATION_DATE'\n",
    "FINAL_CARE_COLUMNS = [COL_COMMON_NAME, COL_SCI_NAME, COL_LAT, COL_LONG, COL_DATE]\n",
    "NORMALIZE_COLUMNS = [COL_COMMON_NAME, COL_SCI_NAME]\n",
    "\n",
    "def normalize_form(df, column_names):\n",
    "    value_dfs = {}\n",
    "    normalized_df = df.copy()\n",
    "\n",
    "    for column_name in column_names:\n",
    "        print(f\"Extracing values for column {column_name}\")\n",
    "        \n",
    "        # Build a table for the extracted values, giving each unique value an ID number\n",
    "        values = df[column_name].unique()\n",
    "        ids = np.arange(1, len(values)+1)\n",
    "        value_df = pd.DataFrame({'id': ids, column_name: values})\n",
    "        value_dfs[column_name] = value_df\n",
    "    \n",
    "        # Replace the literal values with their ID in the original dataframe\n",
    "        for i in range(0, len(values)):\n",
    "            value = values[i]\n",
    "            id = ids[i]\n",
    "            normalized_df[column_name] = normalized_df[column_name].replace({value: id})\n",
    "    return normalized_df, value_dfs\n",
    "\n",
    "# Read the data\n",
    "raw_df = pd.read_csv(SOURCE, sep='\\t')\n",
    "\n",
    "# Drop all sightings categories by anything other than species (just for simplification)\n",
    "df = raw_df.loc[raw_df[COL_TAX_CATEGORY] == 'species']\n",
    "\n",
    "# Change a few column names to avoid spaces in names\n",
    "df = df.rename(columns={COL_COMMON_NAME.replace('_', ' '): COL_COMMON_NAME})\n",
    "df = df.rename(columns={COL_SCI_NAME.replace('_', ' '): COL_SCI_NAME})\n",
    "df = df.rename(columns={COL_DATE.replace('_', ' '): COL_DATE})\n",
    "\n",
    "# Remove extraneous columns\n",
    "df = df.loc[:, FINAL_CARE_COLUMNS ]\n",
    "\n",
    "# Get the normalized dataframes\n",
    "(ndf, vdfs) = normalize_form(df, NORMALIZE_COLUMNS)\n",
    "\n",
    "# Save all the dataframes as CSV\n",
    "if not os.path.exists(OUT_DIR):\n",
    "    os.makedirs(OUT_DIR)\n",
    "\n",
    "out_path = os.path.join(OUT_DIR, 'normalized.csv')\n",
    "print(f\"Saving main data: {out_path}\")\n",
    "ndf.to_csv(out_path)\n",
    "for c in NORMALIZE_COLUMNS:\n",
    "    out_path = os.path.join(OUT_DIR, f'{c}.csv')\n",
    "    print(f\"Saving {c} data: {out_path}\")\n",
    "    vdfs[c].to_csv(out_path)\n"
   ]
  },
  {
   "cell_type": "code",
   "execution_count": null,
   "id": "26cf0e11-bf0c-4880-8634-d9b245931ad5",
   "metadata": {},
   "outputs": [],
   "source": []
  }
 ],
 "metadata": {
  "kernelspec": {
   "display_name": "Python 3 (ipykernel)",
   "language": "python",
   "name": "python3"
  },
  "language_info": {
   "codemirror_mode": {
    "name": "ipython",
    "version": 3
   },
   "file_extension": ".py",
   "mimetype": "text/x-python",
   "name": "python",
   "nbconvert_exporter": "python",
   "pygments_lexer": "ipython3",
   "version": "3.10.14"
  }
 },
 "nbformat": 4,
 "nbformat_minor": 5
}
